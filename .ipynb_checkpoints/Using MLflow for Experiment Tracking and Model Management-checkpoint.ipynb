{
 "cells": [
  {
   "cell_type": "code",
   "execution_count": 2,
   "id": "ed4ce396-a8ab-4864-b0a0-d85e3ad6edd5",
   "metadata": {},
   "outputs": [
    {
     "name": "stdout",
     "output_type": "stream",
     "text": [
      "gfg\n"
     ]
    }
   ],
   "source": [
    "print(\"gfg\")"
   ]
  },
  {
   "cell_type": "code",
   "execution_count": null,
   "id": "d166ed52-325b-4313-b69a-7298aed78811",
   "metadata": {},
   "outputs": [],
   "source": []
  }
 ],
 "metadata": {
  "kernelspec": {
   "display_name": "Python 3 (ipykernel)",
   "language": "python",
   "name": "python3"
  },
  "language_info": {
   "codemirror_mode": {
    "name": "ipython",
    "version": 3
   },
   "file_extension": ".py",
   "mimetype": "text/x-python",
   "name": "python",
   "nbconvert_exporter": "python",
   "pygments_lexer": "ipython3",
   "version": "3.11.8"
  }
 },
 "nbformat": 4,
 "nbformat_minor": 5
}
